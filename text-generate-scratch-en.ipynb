{
 "cells": [
  {
   "attachments": {},
   "cell_type": "markdown",
   "metadata": {},
   "source": [
    "## Generate text version Vietnamese."
   ]
  },
  {
   "cell_type": "code",
   "execution_count": 45,
   "metadata": {},
   "outputs": [
    {
     "data": {
      "text/html": [
       "<div>\n",
       "<style scoped>\n",
       "    .dataframe tbody tr th:only-of-type {\n",
       "        vertical-align: middle;\n",
       "    }\n",
       "\n",
       "    .dataframe tbody tr th {\n",
       "        vertical-align: top;\n",
       "    }\n",
       "\n",
       "    .dataframe thead th {\n",
       "        text-align: right;\n",
       "    }\n",
       "</style>\n",
       "<table border=\"1\" class=\"dataframe\">\n",
       "  <thead>\n",
       "    <tr style=\"text-align: right;\">\n",
       "      <th></th>\n",
       "      <th>text</th>\n",
       "      <th>Liked</th>\n",
       "    </tr>\n",
       "  </thead>\n",
       "  <tbody>\n",
       "    <tr>\n",
       "      <th>0</th>\n",
       "      <td>Wow... Loved this place.</td>\n",
       "      <td>1</td>\n",
       "    </tr>\n",
       "    <tr>\n",
       "      <th>1</th>\n",
       "      <td>Crust is not good.</td>\n",
       "      <td>0</td>\n",
       "    </tr>\n",
       "    <tr>\n",
       "      <th>2</th>\n",
       "      <td>Not tasty and the texture was just nasty.</td>\n",
       "      <td>0</td>\n",
       "    </tr>\n",
       "    <tr>\n",
       "      <th>3</th>\n",
       "      <td>Stopped by during the late May bank holiday of...</td>\n",
       "      <td>1</td>\n",
       "    </tr>\n",
       "    <tr>\n",
       "      <th>4</th>\n",
       "      <td>The selection on the menu was great and so wer...</td>\n",
       "      <td>1</td>\n",
       "    </tr>\n",
       "    <tr>\n",
       "      <th>...</th>\n",
       "      <td>...</td>\n",
       "      <td>...</td>\n",
       "    </tr>\n",
       "    <tr>\n",
       "      <th>995</th>\n",
       "      <td>I think food should have flavor and texture an...</td>\n",
       "      <td>0</td>\n",
       "    </tr>\n",
       "    <tr>\n",
       "      <th>996</th>\n",
       "      <td>Appetite instantly gone.</td>\n",
       "      <td>0</td>\n",
       "    </tr>\n",
       "    <tr>\n",
       "      <th>997</th>\n",
       "      <td>Overall I was not impressed and would not go b...</td>\n",
       "      <td>0</td>\n",
       "    </tr>\n",
       "    <tr>\n",
       "      <th>998</th>\n",
       "      <td>The whole experience was underwhelming, and I ...</td>\n",
       "      <td>0</td>\n",
       "    </tr>\n",
       "    <tr>\n",
       "      <th>999</th>\n",
       "      <td>Then, as if I hadn't wasted enough of my life ...</td>\n",
       "      <td>0</td>\n",
       "    </tr>\n",
       "  </tbody>\n",
       "</table>\n",
       "<p>1000 rows × 2 columns</p>\n",
       "</div>"
      ],
      "text/plain": [
       "                                                  text  Liked\n",
       "0                             Wow... Loved this place.      1\n",
       "1                                   Crust is not good.      0\n",
       "2            Not tasty and the texture was just nasty.      0\n",
       "3    Stopped by during the late May bank holiday of...      1\n",
       "4    The selection on the menu was great and so wer...      1\n",
       "..                                                 ...    ...\n",
       "995  I think food should have flavor and texture an...      0\n",
       "996                           Appetite instantly gone.      0\n",
       "997  Overall I was not impressed and would not go b...      0\n",
       "998  The whole experience was underwhelming, and I ...      0\n",
       "999  Then, as if I hadn't wasted enough of my life ...      0\n",
       "\n",
       "[1000 rows x 2 columns]"
      ]
     },
     "execution_count": 45,
     "metadata": {},
     "output_type": "execute_result"
    }
   ],
   "source": [
    "# Load the dataframe \n",
    "import pandas as pd \n",
    "df = pd.read_csv('../data/Restaurant_Reviews.tsv', sep='\\t')\n",
    "df = df.rename(columns={'Review': 'text'})\n",
    "df "
   ]
  },
  {
   "cell_type": "code",
   "execution_count": 46,
   "metadata": {},
   "outputs": [
    {
     "name": "stderr",
     "output_type": "stream",
     "text": [
      "[nltk_data] Downloading package stopwords to /Users/ngocp/nltk_data...\n",
      "[nltk_data]   Package stopwords is already up-to-date!\n"
     ]
    },
    {
     "data": {
      "text/html": [
       "<div>\n",
       "<style scoped>\n",
       "    .dataframe tbody tr th:only-of-type {\n",
       "        vertical-align: middle;\n",
       "    }\n",
       "\n",
       "    .dataframe tbody tr th {\n",
       "        vertical-align: top;\n",
       "    }\n",
       "\n",
       "    .dataframe thead th {\n",
       "        text-align: right;\n",
       "    }\n",
       "</style>\n",
       "<table border=\"1\" class=\"dataframe\">\n",
       "  <thead>\n",
       "    <tr style=\"text-align: right;\">\n",
       "      <th></th>\n",
       "      <th>text</th>\n",
       "      <th>Liked</th>\n",
       "    </tr>\n",
       "  </thead>\n",
       "  <tbody>\n",
       "    <tr>\n",
       "      <th>0</th>\n",
       "      <td>wow loved place</td>\n",
       "      <td>1</td>\n",
       "    </tr>\n",
       "    <tr>\n",
       "      <th>1</th>\n",
       "      <td>crust good</td>\n",
       "      <td>0</td>\n",
       "    </tr>\n",
       "    <tr>\n",
       "      <th>2</th>\n",
       "      <td>tasty texture nasty</td>\n",
       "      <td>0</td>\n",
       "    </tr>\n",
       "    <tr>\n",
       "      <th>3</th>\n",
       "      <td>stopped late may bank holiday rick steve recom...</td>\n",
       "      <td>1</td>\n",
       "    </tr>\n",
       "    <tr>\n",
       "      <th>4</th>\n",
       "      <td>selection menu great prices</td>\n",
       "      <td>1</td>\n",
       "    </tr>\n",
       "  </tbody>\n",
       "</table>\n",
       "</div>"
      ],
      "text/plain": [
       "                                                text  Liked\n",
       "0                                    wow loved place      1\n",
       "1                                         crust good      0\n",
       "2                                tasty texture nasty      0\n",
       "3  stopped late may bank holiday rick steve recom...      1\n",
       "4                        selection menu great prices      1"
      ]
     },
     "execution_count": 46,
     "metadata": {},
     "output_type": "execute_result"
    }
   ],
   "source": [
    "import nltk\n",
    "nltk.download('stopwords')\n",
    "import re\n",
    "from nltk.corpus import stopwords\n",
    "\n",
    "def clean_text(text):\n",
    "  \n",
    "    # Make text lowercase\n",
    "    text = text.lower()\n",
    "\n",
    "    # Remove text in square brackets\n",
    "    text = re.sub('\\[.*?\\]', '', text)\n",
    "\n",
    "    # Remove links\n",
    "    text = re.sub('https?://\\S+|www\\.\\S+', '', text)\n",
    "\n",
    "    # Remove punctuation\n",
    "    text = re.sub('[^a-zA-Z0-9\\s]+', '', text)\n",
    "\n",
    "    # Remove words containing numbers\n",
    "    text = re.sub('\\w*\\d\\w*', '', text)\n",
    "\n",
    "    # Remove stop words\n",
    "    stop_words = set(stopwords.words('english'))\n",
    "    words = text.split()\n",
    "    filtered_words = [word for word in words if word not in stop_words]\n",
    "    text = ' '.join(filtered_words)\n",
    "\n",
    "    # Remove extra whitespace\n",
    "    text = re.sub('\\s+', ' ', text).strip()\n",
    "\n",
    "    return text\n",
    "\n",
    "# Apply the clean_text function to all text in the 'text' column\n",
    "df['text'] = df['text'].apply(clean_text)\n",
    "\n",
    "# Show the updated dataframe\n",
    "df.head()"
   ]
  },
  {
   "cell_type": "code",
   "execution_count": 47,
   "metadata": {},
   "outputs": [],
   "source": [
    "from nltk.stem import SnowballStemmer\n",
    "\n",
    "# initialize SnowballStemmer \n",
    "stemmer = SnowballStemmer('english')\n",
    "\n",
    "def stem_text(text):\n",
    "    # Tokenize the input text into individual words\n",
    "    tokens = nltk.word_tokenize(text)\n",
    "    \n",
    "    # Stem each token using the SnowballStemmer\n",
    "    stemmed_tokens = [stemmer.stem(token) for token in tokens]\n",
    "    \n",
    "    # Join the stemmed tokens back into a single string\n",
    "    return ' '.join(stemmed_tokens)"
   ]
  },
  {
   "cell_type": "code",
   "execution_count": 48,
   "metadata": {},
   "outputs": [],
   "source": [
    "# apply stemming to the 'text' column in your DataFrame\n",
    "# df['text'] = df['text'].apply(stem_text)\n",
    "# Show the updated dataframe\n",
    "# df.head()"
   ]
  },
  {
   "cell_type": "code",
   "execution_count": 49,
   "metadata": {},
   "outputs": [
    {
     "name": "stdout",
     "output_type": "stream",
     "text": [
      "content_tokens ['wow', 'loved', 'place']\n"
     ]
    }
   ],
   "source": [
    "import re\n",
    "\n",
    "contents = df['text'].values.tolist()\n",
    "def santilize(x):\n",
    "    t = x.split(' ')\n",
    "    new_list = [item for item in t if item is not None]\n",
    "    return new_list\n",
    "content_tokens = list(map(santilize, contents))\n",
    "print('content_tokens', content_tokens[0])\n"
   ]
  },
  {
   "cell_type": "code",
   "execution_count": 50,
   "metadata": {},
   "outputs": [
    {
     "name": "stderr",
     "output_type": "stream",
     "text": [
      "/Users/ngocp/.pyenv/versions/3.10.3/lib/python3.10/site-packages/transformers/models/auto/modeling_auto.py:1248: FutureWarning: The class `AutoModelWithLMHead` is deprecated and will be removed in a future version. Please use `AutoModelForCausalLM` for causal language models, `AutoModelForMaskedLM` for masked language models and `AutoModelForSeq2SeqLM` for encoder-decoder models.\n",
      "  warnings.warn(\n",
      "loading configuration file config.json from cache at /Users/ngocp/.cache/huggingface/hub/models--gpt2/snapshots/e7da7f221d5bf496a48136c0cd264e630fe9fcc8/config.json\n",
      "Model config GPT2Config {\n",
      "  \"_name_or_path\": \"gpt2\",\n",
      "  \"activation_function\": \"gelu_new\",\n",
      "  \"architectures\": [\n",
      "    \"GPT2LMHeadModel\"\n",
      "  ],\n",
      "  \"attn_pdrop\": 0.1,\n",
      "  \"bos_token_id\": 50256,\n",
      "  \"embd_pdrop\": 0.1,\n",
      "  \"eos_token_id\": 50256,\n",
      "  \"initializer_range\": 0.02,\n",
      "  \"layer_norm_epsilon\": 1e-05,\n",
      "  \"model_type\": \"gpt2\",\n",
      "  \"n_ctx\": 1024,\n",
      "  \"n_embd\": 768,\n",
      "  \"n_head\": 12,\n",
      "  \"n_inner\": null,\n",
      "  \"n_layer\": 12,\n",
      "  \"n_positions\": 1024,\n",
      "  \"reorder_and_upcast_attn\": false,\n",
      "  \"resid_pdrop\": 0.1,\n",
      "  \"scale_attn_by_inverse_layer_idx\": false,\n",
      "  \"scale_attn_weights\": true,\n",
      "  \"summary_activation\": null,\n",
      "  \"summary_first_dropout\": 0.1,\n",
      "  \"summary_proj_to_labels\": true,\n",
      "  \"summary_type\": \"cls_index\",\n",
      "  \"summary_use_proj\": true,\n",
      "  \"task_specific_params\": {\n",
      "    \"text-generation\": {\n",
      "      \"do_sample\": true,\n",
      "      \"max_length\": 50\n",
      "    }\n",
      "  },\n",
      "  \"transformers_version\": \"4.26.1\",\n",
      "  \"use_cache\": true,\n",
      "  \"vocab_size\": 50257\n",
      "}\n",
      "\n",
      "loading weights file pytorch_model.bin from cache at /Users/ngocp/.cache/huggingface/hub/models--gpt2/snapshots/e7da7f221d5bf496a48136c0cd264e630fe9fcc8/pytorch_model.bin\n",
      "Generate config GenerationConfig {\n",
      "  \"bos_token_id\": 50256,\n",
      "  \"eos_token_id\": 50256,\n",
      "  \"transformers_version\": \"4.26.1\"\n",
      "}\n",
      "\n",
      "All model checkpoint weights were used when initializing GPT2LMHeadModel.\n",
      "\n",
      "All the weights of GPT2LMHeadModel were initialized from the model checkpoint at gpt2.\n",
      "If your task is similar to the task the model of the checkpoint was trained on, you can already use GPT2LMHeadModel for predictions without further training.\n",
      "loading configuration file generation_config.json from cache at /Users/ngocp/.cache/huggingface/hub/models--gpt2/snapshots/e7da7f221d5bf496a48136c0cd264e630fe9fcc8/generation_config.json\n",
      "Generate config GenerationConfig {\n",
      "  \"_from_model_config\": true,\n",
      "  \"bos_token_id\": 50256,\n",
      "  \"eos_token_id\": 50256,\n",
      "  \"transformers_version\": \"4.26.1\"\n",
      "}\n",
      "\n",
      "Could not locate the tokenizer configuration file, will try to use the model config instead.\n",
      "loading configuration file config.json from cache at /Users/ngocp/.cache/huggingface/hub/models--gpt2/snapshots/e7da7f221d5bf496a48136c0cd264e630fe9fcc8/config.json\n",
      "Model config GPT2Config {\n",
      "  \"_name_or_path\": \"gpt2\",\n",
      "  \"activation_function\": \"gelu_new\",\n",
      "  \"architectures\": [\n",
      "    \"GPT2LMHeadModel\"\n",
      "  ],\n",
      "  \"attn_pdrop\": 0.1,\n",
      "  \"bos_token_id\": 50256,\n",
      "  \"embd_pdrop\": 0.1,\n",
      "  \"eos_token_id\": 50256,\n",
      "  \"initializer_range\": 0.02,\n",
      "  \"layer_norm_epsilon\": 1e-05,\n",
      "  \"model_type\": \"gpt2\",\n",
      "  \"n_ctx\": 1024,\n",
      "  \"n_embd\": 768,\n",
      "  \"n_head\": 12,\n",
      "  \"n_inner\": null,\n",
      "  \"n_layer\": 12,\n",
      "  \"n_positions\": 1024,\n",
      "  \"reorder_and_upcast_attn\": false,\n",
      "  \"resid_pdrop\": 0.1,\n",
      "  \"scale_attn_by_inverse_layer_idx\": false,\n",
      "  \"scale_attn_weights\": true,\n",
      "  \"summary_activation\": null,\n",
      "  \"summary_first_dropout\": 0.1,\n",
      "  \"summary_proj_to_labels\": true,\n",
      "  \"summary_type\": \"cls_index\",\n",
      "  \"summary_use_proj\": true,\n",
      "  \"task_specific_params\": {\n",
      "    \"text-generation\": {\n",
      "      \"do_sample\": true,\n",
      "      \"max_length\": 50\n",
      "    }\n",
      "  },\n",
      "  \"transformers_version\": \"4.26.1\",\n",
      "  \"use_cache\": true,\n",
      "  \"vocab_size\": 50257\n",
      "}\n",
      "\n",
      "loading file vocab.json from cache at /Users/ngocp/.cache/huggingface/hub/models--gpt2/snapshots/e7da7f221d5bf496a48136c0cd264e630fe9fcc8/vocab.json\n",
      "loading file merges.txt from cache at /Users/ngocp/.cache/huggingface/hub/models--gpt2/snapshots/e7da7f221d5bf496a48136c0cd264e630fe9fcc8/merges.txt\n",
      "loading file tokenizer.json from cache at /Users/ngocp/.cache/huggingface/hub/models--gpt2/snapshots/e7da7f221d5bf496a48136c0cd264e630fe9fcc8/tokenizer.json\n",
      "loading file added_tokens.json from cache at None\n",
      "loading file special_tokens_map.json from cache at None\n",
      "loading file tokenizer_config.json from cache at None\n",
      "loading configuration file config.json from cache at /Users/ngocp/.cache/huggingface/hub/models--gpt2/snapshots/e7da7f221d5bf496a48136c0cd264e630fe9fcc8/config.json\n",
      "Model config GPT2Config {\n",
      "  \"_name_or_path\": \"gpt2\",\n",
      "  \"activation_function\": \"gelu_new\",\n",
      "  \"architectures\": [\n",
      "    \"GPT2LMHeadModel\"\n",
      "  ],\n",
      "  \"attn_pdrop\": 0.1,\n",
      "  \"bos_token_id\": 50256,\n",
      "  \"embd_pdrop\": 0.1,\n",
      "  \"eos_token_id\": 50256,\n",
      "  \"initializer_range\": 0.02,\n",
      "  \"layer_norm_epsilon\": 1e-05,\n",
      "  \"model_type\": \"gpt2\",\n",
      "  \"n_ctx\": 1024,\n",
      "  \"n_embd\": 768,\n",
      "  \"n_head\": 12,\n",
      "  \"n_inner\": null,\n",
      "  \"n_layer\": 12,\n",
      "  \"n_positions\": 1024,\n",
      "  \"reorder_and_upcast_attn\": false,\n",
      "  \"resid_pdrop\": 0.1,\n",
      "  \"scale_attn_by_inverse_layer_idx\": false,\n",
      "  \"scale_attn_weights\": true,\n",
      "  \"summary_activation\": null,\n",
      "  \"summary_first_dropout\": 0.1,\n",
      "  \"summary_proj_to_labels\": true,\n",
      "  \"summary_type\": \"cls_index\",\n",
      "  \"summary_use_proj\": true,\n",
      "  \"task_specific_params\": {\n",
      "    \"text-generation\": {\n",
      "      \"do_sample\": true,\n",
      "      \"max_length\": 50\n",
      "    }\n",
      "  },\n",
      "  \"transformers_version\": \"4.26.1\",\n",
      "  \"use_cache\": true,\n",
      "  \"vocab_size\": 50257\n",
      "}\n",
      "\n"
     ]
    }
   ],
   "source": [
    "from transformers import AutoTokenizer, AutoModelWithLMHead\n",
    "modelMaskedLM = AutoModelWithLMHead.from_pretrained('gpt2')\n",
    "tokenizerVI = AutoTokenizer.from_pretrained('gpt2')"
   ]
  },
  {
   "cell_type": "code",
   "execution_count": 51,
   "metadata": {},
   "outputs": [
    {
     "name": "stdout",
     "output_type": "stream",
     "text": [
      "sentence_tokens {'fresh', 'damn', 'honeslty', 'texture', 'tasty', 'didnt', 'pho', 'recommendation', 'wow', 'rick', 'selection', 'stopped', 'nasty', 'want', 'great', 'place', 'taste', 'holiday', 'getting', 'menu', 'loved', 'crust', 'angry', 'may', 'late', 'good', 'prices', 'bank', 'steve'}\n",
      "length before add: 50257\n",
      "length after add: 51482\n"
     ]
    },
    {
     "data": {
      "text/plain": [
       "Embedding(51483, 768)"
      ]
     },
     "execution_count": 51,
     "metadata": {},
     "output_type": "execute_result"
    }
   ],
   "source": [
    "def flatten_list(lst):\n",
    "    flattened = []\n",
    "    for item in lst:\n",
    "        if isinstance(item, list):\n",
    "            flattened.extend(flatten_list(item))\n",
    "        else:\n",
    "            flattened.append(item)\n",
    "    return flattened\n",
    "\n",
    "sentence_tokens = flatten_list(content_tokens)\n",
    "print('sentence_tokens', set(sentence_tokens[0:30]))\n",
    "new_tokens = set(sentence_tokens) - set(tokenizerVI.get_vocab().keys())\n",
    "print('length before add:', len(tokenizerVI.vocab))\n",
    "tokenizerVI.add_tokens(list(new_tokens))\n",
    "print('length after add:', len(tokenizerVI.vocab))\n",
    "modelMaskedLM.resize_token_embeddings(len(tokenizerVI)+1)"
   ]
  },
  {
   "cell_type": "code",
   "execution_count": 52,
   "metadata": {},
   "outputs": [
    {
     "name": "stdout",
     "output_type": "stream",
     "text": [
      "[('forty', 51257), ('bussell', 50771), ('boba', 50611), ('choux', 50483), ('welcome', 51317), ('greatest', 51067), ('caballeros', 50868), ('sushi', 50925), ('couple', 50819), ('lemon', 50639), ('pricey', 50881), ('bigger', 51128), ('editing', 50386), ('performed', 51021), ('overcooked', 51338), ('tasty', 50426), ('luke', 50460), ('disgust', 51305), ('serves', 50410), ('dude', 51178), ('solidify', 50280), ('negligent', 50595), ('cramming', 50612), ('dispenser', 50967), ('unfortunately', 50779), ('dreamed', 50517), ('hasnt', 50343), ('potato', 51191), ('publicly', 50753), ('boring', 50822), ('quantity', 51149), ('tragedy', 50566), ('extraordinary', 50721), ('authentic', 50974), ('corporation', 50428), ('decision', 50493), ('downside', 50734), ('anytime', 50434), ('twice', 50429), ('expect', 51411), ('edinburgh', 50553), ('capers', 51055), ('comfortable', 50509), ('mood', 51225), ('omg', 51226), ('returned', 50529), ('profiterole', 50776), ('crema', 50521), ('suggestions', 51475), ('wines', 51038), ('hunan', 50311), ('evening', 50344), ('cafe', 51046), ('overhaul', 51267), ('theft', 50289), ('imaginative', 50976), ('difference', 51134), ('possible', 50762), ('bland', 50272), ('crust', 50466), ('valley', 50741), ('chicken', 51223), ('sick', 50962), ('macarons', 50614), ('rushed', 50527), ('saganaki', 50432), ('combination', 51068), ('classywarm', 51311), ('rolls', 51379), ('spots', 51051), ('privileged', 50681), ('shoots', 50775), ('reasonably', 50936), ('theyre', 50283), ('lady', 51097), ('ambience', 50942), ('attitudes', 50726), ('tempi', 50278), ('unwelcome', 51170), ('turkey', 50560), ('across', 51056), ('recommend', 50371), ('sauces', 50814), ('desserts', 50732), ('buffet', 50798), ('disgraceful', 51480), ('dollars', 51457), ('needless', 50968), ('stomach', 50456), ('driest', 50829), ('delicate', 51157), ('chefs', 50286), ('sandwiches', 51281), ('dessert', 50452), ('foods', 50842), ('larger', 50504), ('rudely', 51057), ('omelets', 50825), ('cannoli', 50437), ('mushroom', 51452), ('suck', 50846), ('caf', 50668), ('relleno', 51086), ('hottest', 50459), ('garlic', 51109), ('businesses', 51395), ('ramseys', 50763), ('impeccable', 50407), ('recommending', 50692), ('accomodate', 50783), ('clue', 50399), ('describing', 51142), ('regularly', 50603), ('dried', 50724), ('wanted', 50832), ('auju', 50860), ('peanuts', 50788), ('weve', 50854), ('allergy', 51433), ('wasting', 50275), ('personable', 51378), ('mango', 50694), ('barely', 51363), ('desired', 51431), ('avoided', 50706), ('mouths', 51072), ('loyal', 51219), ('vegasthere', 51216), ('nay', 51269), ('verge', 51348), ('mellow', 51032), ('tenders', 50704), ('bellagio', 51249), ('atrocious', 50853), ('containers', 50387), ('funny', 51373), ('hardest', 50450), ('guess', 51424), ('smashburger', 51075), ('instantly', 50896), ('stretch', 50767), ('blows', 51146), ('loves', 51330), ('seated', 50983), ('customers', 50785), ('sunglasses', 51428), ('discount', 50643), ('francisco', 50357), ('truffle', 51209), ('wont', 51342), ('interior', 50474), ('thirty', 51136), ('requested', 51416), ('cheek', 50740), ('hawaiian', 50305), ('become', 50545), ('rightthe', 51383), ('postinos', 50739), ('disgusting', 51013), ('wasnt', 51227), ('christmas', 50497), ('ganoush', 50423), ('sitting', 50540), ('yaall', 51212), ('amazingrge', 51011), ('outdoor', 50582), ('warnings', 51319), ('visited', 51137), ('attached', 50948), ('watered', 50393), ('perfection', 50786), ('eclectic', 51070), ('extensive', 50702), ('pork', 50673), ('flavored', 50398), ('chinese', 50425), ('passed', 50316), ('raspberry', 50615), ('werent', 51389), ('poop', 50787), ('lox', 51453), ('overpriced', 50531), ('honeslty', 50498), ('providing', 50622), ('ladies', 51100), ('disappointed', 50328), ('olives', 50516), ('anyways', 50725), ('togo', 50616), ('basically', 50366), ('airline', 51024), ('dressed', 51287), ('grilled', 51321), ('sangria', 51262), ('fries', 51105), ('melted', 50271), ('hilarious', 50296), ('mushrooms', 51380), ('personally', 51093), ('cheese', 50547), ('dipping', 51131), ('panna', 51280), ('crepe', 50396), ('rubber', 51297), ('hopes', 51282), ('walked', 51199), ('moms', 51413), ('meals', 50774), ('gringos', 50711), ('excalibur', 51354), ('voodoo', 51350), ('bathrooms', 50325), ('longer', 51022), ('chef', 51005), ('recall', 51064), ('undercooked', 50473), ('correction', 51471), ('smooth', 50376), ('joeys', 50916), ('hope', 51476), ('wienerschnitzel', 51405), ('thumbs', 51286), ('lover', 51449), ('cashier', 50738), ('meatballs', 51095), ('stuffed', 51153), ('asked', 51468), ('deliciously', 51184), ('believe', 50276), ('platter', 51116), ('chips', 51023), ('complain', 51462), ('decent', 50794), ('struck', 50312), ('ravoli', 50655), ('legit', 50698), ('opinion', 50491), ('equally', 50322), ('roast', 50412), ('coziness', 51322), ('specialand', 50414), ('surprised', 50508), ('experience', 51054), ('fucking', 50404), ('marrow', 50284), ('eel', 50346), ('spaghetti', 50954), ('uploaded', 50651), ('pizzas', 50840), ('ridiculous', 50984), ('leather', 50828), ('fails', 50257), ('coconut', 51347), ('crowd', 50627), ('thick', 51132), ('poisoning', 51188), ('happier', 50318), ('eggs', 50835), ('foodand', 50796), ('pepperand', 51247), ('climbing', 50495), ('attention', 51263), ('reduction', 51187), ('bacon', 50259), ('cooking', 50893), ('seasoning', 51409), ('recommended', 50876), ('hated', 50784), ('shrimp', 50295), ('salmon', 50671), ('fridays', 50292), ('latte', 50307), ('watched', 51204), ('hungry', 50797), ('cannot', 51027), ('likes', 50350), ('onion', 50735), ('seafood', 50519), ('haunt', 50600), ('risotto', 50672), ('inviting', 50462), ('bargain', 50533), ('brunch', 50759), ('happened', 51089), ('strawberry', 51300), ('ethic', 51062), ('velvet', 51479), ('andddd', 50744), ('binge', 51377), ('excuse', 50971), ('steak', 51423), ('patron', 51323), ('fluffy', 51265), ('fuzzy', 50409), ('palm', 51355), ('familiar', 51182), ('inexpensive', 50294), ('cute', 50665), ('tough', 50959), ('wagyu', 50317), ('prepare', 50369), ('nobu', 51235), ('sprouts', 50528), ('steve', 51016), ('insanely', 50427), ('however', 50773), ('dirt', 50341), ('yama', 50584), ('eew', 50441), ('frozen', 51015), ('joint', 51163), ('pleasure', 50700), ('spices', 50581), ('petty', 50440), ('gluten', 50751), ('boiled', 50701), ('duck', 50352), ('reheated', 50372), ('saffron', 50689), ('neither', 51208), ('complaints', 50757), ('dylan', 50664), ('letdown', 50831), ('charcoal', 51435), ('humiliated', 51437), ('drastically', 51001), ('delights', 50304), ('coffee', 51444), ('drink', 50345), ('steiners', 50524), ('subpar', 50347), ('judge', 51327), ('teamwork', 50861), ('stupid', 50886), ('batter', 51461), ('ninja', 51158), ('nicest', 51325), ('mention', 50696), ('spicier', 50889), ('butter', 51018), ('officially', 51326), ('hadnt', 50308), ('flirting', 50667), ('mayo', 51176), ('tigerlilly', 50485), ('halibut', 50546), ('legs', 51019), ('fireball', 50448), ('flavorful', 50355), ('imagined', 51164), ('italian', 50653), ('tasted', 50608), ('speedy', 50813), ('took', 50370), ('besides', 50433), ('serivce', 50873), ('bakery', 50263), ('shouldnt', 50810), ('pale', 50768), ('minutes', 50888), ('bother', 51017), ('wildly', 51246), ('pulled', 51254), ('milkshake', 51420), ('rude', 50384), ('relationship', 51340), ('smoothies', 50900), ('entire', 50712), ('melt', 51012), ('jeff', 50405), ('saying', 50515), ('pissd', 51384), ('calligraphy', 50385), ('dining', 50866), ('similarly', 50777), ('costcos', 50733), ('veggitarian', 50990), ('trying', 50687), ('charming', 51451), ('drawing', 51066), ('honest', 50435), ('jalapeno', 50663), ('mains', 51008), ('receives', 51074), ('anymore', 50333), ('madhouse', 50912), ('thinly', 51135), ('truly', 50921), ('moist', 50525), ('approval', 51120), ('brick', 51088), ('crab', 50764), ('neighborhood', 51310), ('bisque', 50502), ('vacant', 51372), ('surprise', 51203), ('carlys', 51455), ('handling', 51113), ('yucky', 51166), ('cartel', 50656), ('martini', 50419), ('disbelief', 50909), ('feels', 51183), ('stopped', 51133), ('underservices', 51179), ('succulent', 50442), ('philadelphia', 51357), ('rowdy', 51210), ('beateous', 50326), ('havent', 51250), ('takeout', 50301), ('immediately', 51273), ('vinaigrette', 51084), ('crostini', 50617), ('looked', 51090), ('maria', 50895), ('witnessed', 50449), ('pneumatic', 50589), ('returning', 51041), ('gratuity', 50431), ('craving', 50395), ('burgers', 51387), ('elegantly', 51456), ('youd', 51473), ('conclusion', 51117), ('stinks', 50479), ('enjoy', 50631), ('sitdown', 51478), ('bruschetta', 51034), ('accountant', 51448), ('milk', 50995), ('ryans', 50572), ('signs', 50811), ('mgm', 51328), ('sugar', 51238), ('firehouse', 50927), ('screams', 51071), ('mistake', 50494), ('soi', 50363), ('creamy', 50550), ('highlighted', 50599), ('girlfriends', 50887), ('tepid', 51060), ('folks', 51404), ('garden', 50492), ('mediterranean', 50635), ('sucker', 51459), ('pineapple', 50661), ('patio', 50852), ('fairly', 50646), ('breeze', 50471), ('baklava', 50815), ('appetite', 50894), ('potatoes', 50880), ('skimp', 50559), ('tried', 50772), ('yukon', 50488), ('recently', 50310), ('taco', 50804), ('fellow', 51332), ('elk', 50749), ('summer', 51234), ('stayed', 50360), ('menus', 51312), ('unreal', 51003), ('scottsdale', 51139), ('sexy', 51112), ('rinse', 50848), ('beensteppedinandtrackedeverywhere', 50613), ('sucked', 50587), ('huevos', 50807), ('bloddy', 51063), ('pizza', 51098), ('palate', 50561), ('elsewhere', 51159), ('experienced', 50943), ('margaritas', 51079), ('untoasted', 51202), ('sooooo', 51050), ('nude', 50367), ('reviewer', 51029), ('deliver', 51386), ('meh', 51398), ('bartenders', 51043), ('beauty', 50898), ('whenever', 51192), ('opportunity', 50922), ('sides', 51324), ('flop', 51331), ('baseball', 50970), ('blah', 50979), ('outshining', 50693), ('slaw', 51069), ('peach', 50261), ('lordy', 50273), ('violinists', 50596), ('honestly', 51470), ('delight', 50520), ('yum', 50715), ('finally', 50953), ('says', 50885), ('belly', 50961), ('plater', 50770), ('thai', 50557), ('goat', 50383), ('accordingly', 50297), ('promptly', 50537), ('obviously', 50652), ('bunch', 50401), ('booksomethats', 50421), ('exceeding', 50424), ('mixed', 50468), ('gordon', 50461), ('frenchman', 50820), ('employees', 51058), ('plethora', 50913), ('wants', 50319), ('smaller', 50736), ('descriptions', 50849), ('upgrading', 51094), ('isnt', 50361), ('pictures', 50709), ('visit', 50340), ('crispy', 50812), ('nigiri', 50609), ('toasted', 50501), ('waste', 50583), ('insults', 50472), ('blandest', 50539), ('itdefinitely', 50966), ('moods', 51101), ('shoe', 50544), ('hospitality', 50875), ('gyros', 50457), ('pears', 50892), ('ribeye', 51091), ('classics', 50991), ('apart', 51107), ('weekend', 50982), ('delivery', 50534), ('soooo', 50926), ('reminded', 50679), ('reminds', 50955), ('pancakes', 50705), ('curry', 50874), ('plastic', 51259), ('taste', 50988), ('yummy', 50972), ('homemade', 50568), ('prompt', 50685), ('contain', 50364), ('unsatisfying', 50321), ('bloody', 50747), ('steaks', 50683), ('shower', 50799), ('dealing', 50619), ('terrific', 50793), ('disappoint', 51138), ('guacamole', 50503), ('pats', 51026), ('inhouse', 50320), ('outta', 51181), ('nyc', 50335), ('replenished', 50818), ('assure', 51185), ('bites', 50348), ('piano', 51168), ('cashew', 51141), ('touched', 51464), ('restaurants', 50841), ('smelled', 50408), ('vain', 50523), ('fry', 51059), ('biggest', 51174), ('customer', 51415), ('dusted', 51364), ('southwest', 50382), ('pita', 51231), ('walls', 51037), ('smeared', 51002), ('thrilled', 51295), ('realized', 51036), ('yellowtail', 51193), ('slices', 50714), ('dough', 50999), ('simply', 51368), ('silently', 51195), ('dropped', 51396), ('reviewing', 50843), ('salsa', 50569), ('magazine', 51033), ('putting', 50658), ('loved', 51078), ('bbq', 51121), ('disgusted', 51266), ('chewy', 51334), ('terrible', 50633), ('beers', 50365), ('seasoned', 51304), ('donut', 50728), ('youre', 50834), ('penne', 50567), ('upway', 51432), ('worstannoying', 51092), ('suffers', 51162), ('screwed', 50827), ('meatloaf', 50446), ('absolutley', 50315), ('calamari', 51309), ('promise', 50605), ('lacked', 51329), ('choose', 51275), ('awesome', 51333), ('strange', 50463), ('lovers', 50932), ('hut', 50994), ('despicable', 50780), ('unbelievable', 51156), ('theyd', 50415), ('sour', 50778), ('hankering', 50647), ('indian', 50823), ('mediocre', 50975), ('multigrain', 51169), ('particular', 50522), ('disaster', 50950), ('diverse', 50455), ('cibo', 51318), ('staying', 50947), ('forever', 50377), ('tvs', 50901), ('parties', 51341), ('poured', 50541), ('decide', 50743), ('itll', 50629), ('lettuce', 50697), ('drag', 51076), ('combo', 51172), ('foodservice', 50262), ('dime', 51048), ('angry', 51160), ('totally', 50845), ('offered', 51289), ('bought', 50800), ('informative', 50634), ('trimmed', 50496), ('fillet', 51196), ('herewhat', 50601), ('idea', 51362), ('greasy', 51256), ('certainly', 51421), ('ventilation', 51242), ('sucks', 50458), ('glance', 50662), ('decor', 50506), ('several', 50487), ('caring', 50571), ('casino', 50564), ('furthermore', 50510), ('indicate', 50610), ('eggplant', 50300), ('swung', 50281), ('insulted', 50998), ('grease', 51366), ('biscuit', 51087), ('breakfastlunch', 51035), ('lunch', 50314), ('awful', 50397), ('pecan', 51053), ('accommodations', 51253), ('included', 51194), ('voted', 51085), ('spend', 50486), ('pile', 51447), ('dish', 50824), ('sause', 50526), ('courteous', 50597), ('yelpers', 50592), ('expanded', 50677), ('atmosphere', 51272), ('hella', 50374), ('entrees', 51045), ('hooked', 50882), ('recommendation', 51213), ('preparing', 50402), ('lots', 51177), ('cranberrymmmm', 50625), ('typical', 50353), ('beef', 51237), ('lastly', 50436), ('kiddos', 50713), ('somewhat', 50964), ('muffin', 50356), ('tribute', 50299), ('summarize', 50329), ('fianc', 50716), ('inconsiderate', 50934), ('rarely', 51365), ('edible', 50505), ('servicecheck', 50930), ('outrageously', 51232), ('jewel', 50963), ('exquisite', 51224), ('devine', 51466), ('connoisseur', 50645), ('appealing', 50883), ('smells', 50761), ('mortified', 50324), ('compliments', 50606), ('wish', 51207), ('biscuits', 50406), ('amazing', 50260), ('tastings', 50290), ('poorly', 50588), ('tender', 50392), ('reasons', 50648), ('tomato', 51268), ('downtown', 50890), ('presentation', 50351), ('noncustomer', 51358), ('indoor', 50737), ('steakhouse', 50670), ('horrible', 50765), ('pros', 50430), ('doughy', 50899), ('delightful', 51414), ('nonfancy', 51394), ('apology', 51391), ('looks', 50258), ('lowkey', 50654), ('flavors', 50543), ('couples', 51351), ('tuna', 50532), ('wontons', 51393), ('bamboo', 50464), ('salt', 51004), ('phenomenal', 51214), ('vegas', 50742), ('crowds', 50858), ('hostess', 51145), ('easily', 50381), ('satisfied', 50303), ('fav', 51299), ('sporting', 51349), ('outstanding', 51374), ('favor', 51240), ('puree', 50869), ('ratio', 51205), ('polite', 51122), ('bouchon', 50602), ('seating', 51427), ('honor', 51469), ('disrespected', 51477), ('tonight', 51040), ('gourmet', 50607), ('sliced', 50403), ('helped', 50400), ('greek', 50375), ('crystals', 51151), ('waiter', 50809), ('finish', 51115), ('portions', 51320), ('disapppointment', 50336), ('leftover', 50969), ('oysters', 51397), ('couldnt', 50965), ('relocated', 50476), ('ayce', 50313), ('consistent', 50535), ('chickens', 51083), ('petrified', 51111), ('delicioso', 50803), ('smoke', 51061), ('scallop', 51371), ('treat', 50986), ('dedicated', 51150), ('overall', 50817), ('prettyoff', 51152), ('missed', 50941), ('mouthful', 51463), ('meeverything', 51337), ('lawyers', 50269), ('lobster', 50923), ('worse', 50859), ('impressive', 51336), ('ownerchef', 51052), ('drinks', 50570), ('albondigas', 50752), ('vodka', 51436), ('afternoon', 50536), ('crumby', 50373), ('mandalay', 50388), ('burned', 50267), ('expectations', 51445), ('experiencing', 51403), ('dont', 51255), ('banana', 51460), ('beyond', 51189), ('bitches', 50282), ('tolerance', 51472), ('updatewent', 50302), ('moz', 50708), ('shopping', 51206), ('songs', 51167), ('carbs', 51465), ('sore', 50538), ('muststop', 50416), ('spends', 50806), ('greens', 50489), ('overwhelmed', 50277), ('prepared', 50746), ('affordable', 51161), ('guest', 51314), ('dinners', 51361), ('accident', 50480), ('toast', 51345), ('soundtrack', 51360), ('occasions', 51438), ('seemed', 50855), ('seems', 50847), ('hearts', 51000), ('least', 50989), ('overwhelm', 51144), ('thru', 51290), ('ensued', 50987), ('quaint', 51440), ('fabulous', 50475), ('incredibly', 51298), ('considering', 50945), ('liking', 50590), ('drunk', 50769), ('redeeming', 50952), ('baba', 50288), ('vegetables', 50766), ('pastas', 51283), ('apologize', 51039), ('styrofoam', 50578), ('vomited', 50816), ('stir', 50554), ('vibe', 51467), ('giant', 50413), ('ignored', 50903), ('waitress', 50919), ('seasonal', 50389), ('somehow', 50944), ('greedy', 50946), ('mexican', 51313), ('boyfriend', 51385), ('stale', 51425), ('veganveggie', 50690), ('highlights', 50949), ('waiting', 51399), ('crawfish', 50699), ('cotta', 51129), ('refried', 50379), ('awkward', 50720), ('tailored', 51339), ('disappointment', 50680), ('hurry', 51274), ('arrived', 50624), ('venturing', 51180), ('offers', 51047), ('sals', 50638), ('wayyy', 51388), ('crpe', 51430), ('airport', 51243), ('chipolte', 51245), ('toro', 51454), ('buying', 50380), ('sauce', 51293), ('crisp', 51276), ('tongue', 51307), ('hardly', 50439), ('cavier', 50394), ('wouldnt', 51402), ('burrittos', 50549), ('tucson', 50915), ('hamburger', 50674), ('almonds', 51119), ('bellies', 50332), ('mebunch', 50957), ('blame', 51359), ('rotating', 51418), ('revisiting', 50438), ('breakfast', 51042), ('weird', 51221), ('rapidly', 50637), ('relax', 50993), ('godfathers', 50755), ('unprofessional', 50902), ('freezing', 50802), ('dishes', 50574), ('kabuki', 50518), ('profound', 50309), ('waitresses', 50933), ('cant', 50270), ('subway', 50956), ('marys', 51118), ('tea', 51130), ('satisfying', 50754), ('deuchebaggery', 51367), ('anyway', 50879), ('handmade', 50795), ('hoping', 50657), ('flatlined', 51065), ('restaurant', 50935), ('exceptional', 50867), ('burger', 50268), ('glad', 50791), ('disappointing', 51173), ('rare', 51124), ('refrained', 50604), ('expertconnisseur', 51392), ('drinking', 50688), ('circumstances', 51441), ('waaaaaayyyyyyyyyy', 50285), ('pleased', 50274), ('goldencrispy', 50908), ('lukewarm', 50660), ('delicious', 50514), ('fella', 50499), ('unwrapped', 50558), ('nachos', 50453), ('satifying', 51264), ('arriving', 50691), ('came', 51233), ('underwhelming', 50594), ('delish', 50338), ('metro', 51261), ('brought', 50960), ('pastry', 51175), ('vegetarian', 50620), ('reservation', 51217), ('meats', 50745), ('lovely', 50907), ('sunday', 50710), ('refreshing', 50727), ('appalling', 50621), ('disgrace', 50684), ('itfriendly', 51442), ('hopefully', 50420), ('sad', 51114), ('phoenix', 51288), ('chai', 51028), ('grocery', 51103), ('leaves', 50878), ('workingeating', 51301), ('deeply', 50556), ('largely', 51443), ('generous', 51025), ('attentive', 51077), ('sewer', 51426), ('mojitos', 50591), ('crusty', 50981), ('tiramisu', 50844), ('impressed', 51155), ('gloveseverything', 51007), ('properly', 50477), ('employee', 50490), ('hits', 51190), ('soooooo', 51292), ('nutshell', 51352), ('gyro', 50758), ('cocktails', 50929), ('gooodd', 50792), ('nearly', 50482), ('concern', 50339), ('decided', 50626), ('buffets', 50707), ('didnt', 50445), ('raving', 50748), ('otherwise', 51211), ('cocktail', 50500), ('incredible', 51375), ('pepper', 50877), ('tummy', 51010), ('unexperienced', 51244), ('cheap', 50973), ('soup', 51410), ('tartare', 50465), ('imagine', 51147), ('colder', 50833), ('handsdown', 50575), ('freaking', 51408), ('mayowell', 51316), ('mesquite', 50447), ('showed', 51407), ('japanese', 51165), ('loudly', 50897), ('understand', 51108), ('frustrated', 50939), ('yay', 50618), ('grill', 50856), ('spice', 50760), ('imagination', 50641), ('filet', 50563), ('pho', 50513), ('soups', 51369), ('pricing', 50980), ('means', 50512), ('falafels', 50342), ('highlight', 50422), ('khao', 51248), ('genuinely', 51294), ('dripping', 50632), ('pucks', 51143), ('maintaining', 51110), ('dressing', 51106), ('caught', 50451), ('salad', 50264), ('overhip', 51073), ('readers', 50826), ('prices', 50481), ('flair', 50904), ('grandmother', 50781), ('gristle', 50911), ('whole', 51081), ('towards', 50378), ('strangers', 50851), ('tots', 51127), ('waited', 51406), ('flavourful', 50417), ('jamaican', 50731), ('cheesecurds', 51450), ('flavor', 50511), ('plantains', 50298), ('tables', 51474), ('buldogis', 51096), ('salads', 51376), ('industry', 51049), ('acknowledged', 51126), ('perfectly', 50905), ('fear', 50789), ('coupons', 50857), ('fantastic', 51458), ('condiment', 50717), ('peas', 51148), ('dennys', 50917), ('thats', 50821), ('pink', 51236), ('tater', 50871), ('rancheros', 51344), ('tasteless', 50884), ('relaxed', 50659), ('ripped', 50870), ('refused', 51296), ('reviews', 50640), ('arepas', 50467), ('perpared', 50837), ('noodles', 51429), ('pancake', 51343), ('arrives', 50287), ('hummus', 51302), ('busy', 50484), ('apparently', 51228), ('liked', 50920), ('powdered', 51446), ('bathroom', 50782), ('jerk', 50839), ('lack', 51215), ('enjoyable', 50865), ('kitchen', 50593), ('brushfire', 50266), ('customize', 51241), ('duo', 51308), ('movies', 51271), ('brings', 50864), ('flavorless', 50507), ('fondue', 51006), ('jenni', 51315), ('mein', 50551), ('cuisine', 51481), ('forgetting', 50958), ('ingredients', 50669), ('sugary', 50362), ('effort', 50719), ('quickly', 50931), ('trips', 50368), ('caesar', 50334), ('nasty', 50977), ('provides', 50891), ('maine', 51278), ('noca', 50293), ('stepped', 50454), ('wedges', 51009), ('supposed', 51270), ('shops', 51356), ('downright', 51200), ('enthusiastic', 50718), ('tacos', 50642), ('mussels', 50579), ('tartar', 50730), ('juice', 51285), ('website', 50630), ('unhealthy', 51031), ('trippy', 51220), ('beautifully', 50937), ('cheated', 50686), ('dinner', 50359), ('ambiance', 51218), ('youll', 50552), ('shawarrrrrrma', 50576), ('bodes', 50598), ('sashimi', 50291), ('judging', 51198), ('tapas', 51303), ('covers', 50411), ('mall', 50443), ('topvery', 50906), ('lacking', 50573), ('appetizers', 51230), ('doubt', 51258), ('convenient', 51279), ('constructed', 50358), ('excellent', 50323), ('brownish', 50390), ('feeling', 51412), ('sorely', 50349), ('nargile', 51044), ('sergeant', 51417), ('sadly', 50678), ('roasted', 51370), ('cheeseburger', 50628), ('gave', 50910), ('seal', 51419), ('starving', 51125), ('sandwich', 50565), ('teeth', 51335), ('bachi', 51197), ('selections', 50636), ('opposed', 51381), ('cakeohhh', 51102), ('servers', 50676), ('beautiful', 50666), ('blanket', 50863), ('transcendant', 50331), ('wound', 50469), ('pured', 50838), ('located', 50577), ('damn', 50337), ('shocked', 50555), ('camelback', 51401), ('spicy', 50951), ('falling', 50650), ('douchey', 51201), ('chipotle', 51291), ('helpful', 50265), ('guys', 50938), ('bartender', 50801), ('gratitude', 50985), ('vanilla', 50830), ('avocado', 50391), ('definately', 50586), ('unbelievably', 51390), ('companions', 51030), ('inflate', 51434), ('wonderful', 50729), ('appetizer', 50530), ('lil', 51260), ('decorated', 51154), ('struggle', 50940), ('soggy', 51123), ('hereas', 50790), ('disagree', 51082), ('vinegrette', 50580), ('caterpillar', 51229), ('others', 50703), ('neat', 51104), ('naan', 50682), ('definitely', 51080), ('wouldve', 51014), ('eaten', 50306), ('brisket', 50836), ('patty', 51277), ('drenched', 50914), ('wrapped', 50562), ('lighter', 50542), ('exactly', 51306), ('madison', 50924), ('grossed', 51140), ('wasted', 50996), ('highquality', 50850), ('guests', 51400), ('joke', 51422), ('bagels', 50585), ('anyone', 50444), ('mozzarella', 50649), ('mirage', 50695), ('spinach', 50756), ('chocolate', 50354), ('whatsoever', 50330), ('filling', 50928), ('prefer', 50750), ('specials', 51239), ('letting', 51439), ('serve', 50279), ('carpaccio', 50418), ('sharply', 51353), ('peanut', 50327), ('thoroughly', 50872), ('callings', 51020), ('dine', 51186), ('veal', 50723), ('enjoyed', 51346), ('greeted', 50805), ('refill', 51251), ('bloodiest', 50992), ('combos', 50675), ('awkwardly', 51099), ('deserves', 50478), ('croutons', 50470), ('ironman', 50623), ('paradise', 50862), ('chow', 51222), ('warmer', 50997), ('seriously', 50918), ('spotty', 51252), ('salty', 51284), ('worlds', 50808), ('pumpkin', 51171), ('worries', 50548), ('occasional', 50978), ('uninspired', 50644), ('restaraunt', 50722), ('pasta', 51382)]\n",
      "             key  value\n",
      "0          forty  51257\n",
      "1        bussell  50771\n",
      "2           boba  50611\n",
      "3          choux  50483\n",
      "4        welcome  51317\n",
      "...          ...    ...\n",
      "1220     worries  50548\n",
      "1221  occasional  50978\n",
      "1222  uninspired  50644\n",
      "1223  restaraunt  50722\n",
      "1224       pasta  51382\n",
      "\n",
      "[1225 rows x 2 columns]\n"
     ]
    },
    {
     "data": {
      "image/png": "[encoded data removed]",
      "text/plain": [
       "<Figure size 640x480 with 1 Axes>"
      ]
     },
     "metadata": {},
     "output_type": "display_data"
    },
    {
     "name": "stdout",
     "output_type": "stream",
     "text": [
      "The range of values is 1224.0.\n"
     ]
    }
   ],
   "source": [
    "import pandas as pd\n",
    "import matplotlib.pyplot as plt\n",
    "\n",
    "vocabAdded = tokenizerVI.get_added_vocab()\n",
    "print(list(vocabAdded.items()))\n",
    "df = pd.DataFrame(list(vocabAdded.items()), columns=['key', 'value'])\n",
    "\n",
    "print(df)"
   ]
  },
  {
   "cell_type": "code",
   "execution_count": 53,
   "metadata": {},
   "outputs": [
    {
     "name": "stderr",
     "output_type": "stream",
     "text": [
      "Assigning [PAD] to the pad_token key of the tokenizer\n"
     ]
    },
    {
     "name": "stdout",
     "output_type": "stream",
     "text": [
      "[['wow', 'loved', 'place'], ['crust', 'good'], ['tasty', 'texture', 'nasty'], ['stopped', 'late', 'may', 'bank', 'holiday', 'rick', 'steve', 'recommendation', 'loved'], ['selection', 'menu', 'great', 'prices'], ['getting', 'angry', 'want', 'damn', 'pho'], ['honeslty', 'didnt', 'taste', 'fresh'], ['potatoes', 'like', 'rubber', 'could', 'tell', 'made', 'ahead', 'time', 'kept', 'warmer'], ['fries', 'great'], ['great', 'touch'], ['service', 'prompt'], ['would', 'go', 'back'], ['cashier', 'care', 'ever', 'say', 'still', 'ended', 'wayyy', 'overpriced'], ['tried', 'cape', 'cod', 'ravoli', 'chicken', 'cranberrymmmm'], ['disgusted', 'pretty', 'sure', 'human', 'hair'], ['shocked', 'signs', 'indicate', 'cash'], ['highly', 'recommended'], ['waitress', 'little', 'slow', 'service'], ['place', 'worth', 'time', 'let', 'alone', 'vegas'], ['like']]\n"
     ]
    },
    {
     "data": {
      "text/plain": [
       "1"
      ]
     },
     "execution_count": 53,
     "metadata": {},
     "output_type": "execute_result"
    }
   ],
   "source": [
    "# Open the file in write mode\n",
    "with open(\"../data/news_output.txt\", \"w\") as file:\n",
    "    # Truncate the file to the current position of the file pointer\n",
    "    file.truncate()\n",
    "\n",
    "print(content_tokens[:20])\n",
    "with open(\"../data/news_output.txt\", \"w\") as file:\n",
    "    for t in content_tokens[:2]:\n",
    "        file.write(' '.join(t) + \"\\n\")\n",
    "\n",
    "tokenizerVI.add_special_tokens({'pad_token': '[PAD]'})"
   ]
  },
  {
   "cell_type": "code",
   "execution_count": 54,
   "metadata": {},
   "outputs": [
    {
     "name": "stdout",
     "output_type": "stream",
     "text": [
      "[[42773, 220, 51078, 1295], [50466, 922]]\n"
     ]
    }
   ],
   "source": [
    "max_seq_length = 512\n",
    "encoded_texts = [tokenizerVI.encode(text, truncation=True, max_length=max_seq_length) for text in contents]\n",
    "print(encoded_texts[:2])"
   ]
  },
  {
   "cell_type": "code",
   "execution_count": 59,
   "metadata": {},
   "outputs": [
    {
     "name": "stderr",
     "output_type": "stream",
     "text": [
      "PyTorch: setting up devices\n",
      "The default value for the training argument `--report_to` will change in v5 (from all installed integrations to none). In v5, you will need to use `--report_to all` to get the same behavior as now. You should start updating your code and make this info disappear :-).\n",
      "/Users/ngocp/.pyenv/versions/3.10.3/lib/python3.10/site-packages/transformers/optimization.py:306: FutureWarning: This implementation of AdamW is deprecated and will be removed in a future version. Use the PyTorch implementation torch.optim.AdamW instead, or set `no_deprecation_warning=True` to disable this warning\n",
      "  warnings.warn(\n",
      "***** Running training *****\n",
      "  Num examples = 1000\n",
      "  Num Epochs = 12\n",
      "  Instantaneous batch size per device = 16\n",
      "  Total train batch size (w. parallel, distributed & accumulation) = 16\n",
      "  Gradient Accumulation steps = 1\n",
      "  Total optimization steps = 756\n",
      "  Number of trainable parameters = 125381376\n"
     ]
    },
    {
     "data": {
      "application/vnd.jupyter.widget-view+json": {
       "model_id": "3df657a415c041f88e6dcf440a2cefda",
       "version_major": 2,
       "version_minor": 0
      },
      "text/plain": [
       "  0%|          | 0/756 [00:00<?, ?it/s]"
      ]
     },
     "metadata": {},
     "output_type": "display_data"
    },
    {
     "name": "stderr",
     "output_type": "stream",
     "text": [
      "Saving model checkpoint to ./results-text/checkpoint-500\n",
      "Configuration saved in ./results-text/checkpoint-500/config.json\n",
      "Configuration saved in ./results-text/checkpoint-500/generation_config.json\n"
     ]
    },
    {
     "name": "stdout",
     "output_type": "stream",
     "text": [
      "{'loss': 14.4087, 'learning_rate': 2.5e-05, 'epoch': 7.94}\n"
     ]
    },
    {
     "name": "stderr",
     "output_type": "stream",
     "text": [
      "Model weights saved in ./results-text/checkpoint-500/pytorch_model.bin\n",
      "\n",
      "\n",
      "Training completed. Do not forget to share your model on huggingface.co/models =)\n",
      "\n",
      "\n"
     ]
    },
    {
     "name": "stdout",
     "output_type": "stream",
     "text": [
      "{'train_runtime': 648.6765, 'train_samples_per_second': 18.499, 'train_steps_per_second': 1.165, 'train_loss': 11.13747167839575, 'epoch': 12.0}\n"
     ]
    },
    {
     "data": {
      "text/plain": [
       "TrainOutput(global_step=756, training_loss=11.13747167839575, metrics={'train_runtime': 648.6765, 'train_samples_per_second': 18.499, 'train_steps_per_second': 1.165, 'train_loss': 11.13747167839575, 'epoch': 12.0})"
      ]
     },
     "execution_count": 59,
     "metadata": {},
     "output_type": "execute_result"
    }
   ],
   "source": [
    "from transformers import LineByLineTextDataset, TextDataset, DataCollatorForLanguageModeling, Trainer, TrainingArguments\n",
    "\n",
    "# training_data = LineByLineTextDataset(\n",
    "#     tokenizer=tokenizerVI,\n",
    "#     file_path='../data/news_output.txt',\n",
    "#     block_size=1024,\n",
    "# )\n",
    "\n",
    "data_collator = DataCollatorForLanguageModeling(\n",
    "    tokenizer=tokenizerVI, mlm=False, mlm_probability=0.15\n",
    ")\n",
    "\n",
    "training_args = TrainingArguments(\n",
    "    output_dir=\"./results-text\",\n",
    "    overwrite_output_dir=True,\n",
    "    num_train_epochs=12,\n",
    "    per_device_train_batch_size=16,\n",
    "    per_device_eval_batch_size=8,\n",
    "    warmup_steps=1000,\n",
    "    logging_steps=500,\n",
    ")\n",
    "\n",
    "trainer = Trainer(\n",
    "    model=modelMaskedLM,\n",
    "    args=training_args,\n",
    "    train_dataset=encoded_texts,\n",
    "    data_collator=data_collator\n",
    ")\n",
    "\n",
    "trainer.train()\n"
   ]
  },
  {
   "cell_type": "code",
   "execution_count": 60,
   "metadata": {},
   "outputs": [
    {
     "name": "stderr",
     "output_type": "stream",
     "text": [
      "Saving model checkpoint to ./results-text\n",
      "Configuration saved in ./results-text/config.json\n",
      "Configuration saved in ./results-text/generation_config.json\n",
      "Model weights saved in ./results-text/pytorch_model.bin\n"
     ]
    }
   ],
   "source": [
    "trainer.save_model()"
   ]
  },
  {
   "cell_type": "code",
   "execution_count": 61,
   "metadata": {},
   "outputs": [
    {
     "name": "stderr",
     "output_type": "stream",
     "text": [
      "loading configuration file ./results-text/config.json\n",
      "Model config GPT2Config {\n",
      "  \"_name_or_path\": \"./results-text\",\n",
      "  \"activation_function\": \"gelu_new\",\n",
      "  \"architectures\": [\n",
      "    \"GPT2LMHeadModel\"\n",
      "  ],\n",
      "  \"attn_pdrop\": 0.1,\n",
      "  \"bos_token_id\": 50256,\n",
      "  \"embd_pdrop\": 0.1,\n",
      "  \"eos_token_id\": 50256,\n",
      "  \"initializer_range\": 0.02,\n",
      "  \"layer_norm_epsilon\": 1e-05,\n",
      "  \"model_type\": \"gpt2\",\n",
      "  \"n_ctx\": 1024,\n",
      "  \"n_embd\": 768,\n",
      "  \"n_head\": 12,\n",
      "  \"n_inner\": null,\n",
      "  \"n_layer\": 12,\n",
      "  \"n_positions\": 1024,\n",
      "  \"reorder_and_upcast_attn\": false,\n",
      "  \"resid_pdrop\": 0.1,\n",
      "  \"scale_attn_by_inverse_layer_idx\": false,\n",
      "  \"scale_attn_weights\": true,\n",
      "  \"summary_activation\": null,\n",
      "  \"summary_first_dropout\": 0.1,\n",
      "  \"summary_proj_to_labels\": true,\n",
      "  \"summary_type\": \"cls_index\",\n",
      "  \"summary_use_proj\": true,\n",
      "  \"task_specific_params\": {\n",
      "    \"text-generation\": {\n",
      "      \"do_sample\": true,\n",
      "      \"max_length\": 50\n",
      "    }\n",
      "  },\n",
      "  \"torch_dtype\": \"float32\",\n",
      "  \"transformers_version\": \"4.26.1\",\n",
      "  \"use_cache\": true,\n",
      "  \"vocab_size\": 51483\n",
      "}\n",
      "\n",
      "loading configuration file ./results-text/config.json\n",
      "Model config GPT2Config {\n",
      "  \"_name_or_path\": \"./results-text\",\n",
      "  \"activation_function\": \"gelu_new\",\n",
      "  \"architectures\": [\n",
      "    \"GPT2LMHeadModel\"\n",
      "  ],\n",
      "  \"attn_pdrop\": 0.1,\n",
      "  \"bos_token_id\": 50256,\n",
      "  \"embd_pdrop\": 0.1,\n",
      "  \"eos_token_id\": 50256,\n",
      "  \"initializer_range\": 0.02,\n",
      "  \"layer_norm_epsilon\": 1e-05,\n",
      "  \"model_type\": \"gpt2\",\n",
      "  \"n_ctx\": 1024,\n",
      "  \"n_embd\": 768,\n",
      "  \"n_head\": 12,\n",
      "  \"n_inner\": null,\n",
      "  \"n_layer\": 12,\n",
      "  \"n_positions\": 1024,\n",
      "  \"reorder_and_upcast_attn\": false,\n",
      "  \"resid_pdrop\": 0.1,\n",
      "  \"scale_attn_by_inverse_layer_idx\": false,\n",
      "  \"scale_attn_weights\": true,\n",
      "  \"summary_activation\": null,\n",
      "  \"summary_first_dropout\": 0.1,\n",
      "  \"summary_proj_to_labels\": true,\n",
      "  \"summary_type\": \"cls_index\",\n",
      "  \"summary_use_proj\": true,\n",
      "  \"task_specific_params\": {\n",
      "    \"text-generation\": {\n",
      "      \"do_sample\": true,\n",
      "      \"max_length\": 50\n",
      "    }\n",
      "  },\n",
      "  \"torch_dtype\": \"float32\",\n",
      "  \"transformers_version\": \"4.26.1\",\n",
      "  \"use_cache\": true,\n",
      "  \"vocab_size\": 51483\n",
      "}\n",
      "\n",
      "loading weights file ./results-text/pytorch_model.bin\n",
      "Generate config GenerationConfig {\n",
      "  \"bos_token_id\": 50256,\n",
      "  \"eos_token_id\": 50256,\n",
      "  \"transformers_version\": \"4.26.1\"\n",
      "}\n",
      "\n",
      "All model checkpoint weights were used when initializing GPT2LMHeadModel.\n",
      "\n",
      "All the weights of GPT2LMHeadModel were initialized from the model checkpoint at ./results-text.\n",
      "If your task is similar to the task the model of the checkpoint was trained on, you can already use GPT2LMHeadModel for predictions without further training.\n",
      "loading configuration file ./results-text/generation_config.json\n",
      "Generate config GenerationConfig {\n",
      "  \"_from_model_config\": true,\n",
      "  \"bos_token_id\": 50256,\n",
      "  \"eos_token_id\": 50256,\n",
      "  \"transformers_version\": \"4.26.1\"\n",
      "}\n",
      "\n",
      "Generate config GenerationConfig {\n",
      "  \"bos_token_id\": 50256,\n",
      "  \"do_sample\": true,\n",
      "  \"eos_token_id\": 50256,\n",
      "  \"max_length\": 50,\n",
      "  \"transformers_version\": \"4.26.1\"\n",
      "}\n",
      "\n",
      "/Users/ngocp/.pyenv/versions/3.10.3/lib/python3.10/site-packages/transformers/generation/utils.py:1186: UserWarning: You have modified the pretrained model configuration to control generation. This is a deprecated strategy to control generation and will be removed soon, in a future version. Please use a generation configuration file (see https://huggingface.co/docs/transformers/main_classes/text_generation)\n",
      "  warnings.warn(\n",
      "Setting `pad_token_id` to `eos_token_id`:50256 for open-end generation.\n",
      "/Users/ngocp/.pyenv/versions/3.10.3/lib/python3.10/site-packages/transformers/generation/utils.py:1273: UserWarning: Neither `max_length` nor `max_new_tokens` has been set, `max_length` will default to 50 (`generation_config.max_length`). Controlling `max_length` via the config is deprecated and `max_length` will be removed from the config in v5 of Transformers -- we recommend using `max_new_tokens` to control the maximum length of the generation.\n",
      "  warnings.warn(\n"
     ]
    },
    {
     "name": "stdout",
     "output_type": "stream",
     "text": [
      "result [{'generated_text': 'Loved this place serve great food restaurant definitely bland staff sandwich worst breakfast management vegas place food court place serve management service dont management amazing selection staff wait staff overpriced management eaten management staff food options management'}]\n"
     ]
    }
   ],
   "source": [
    "from transformers import pipeline\n",
    "\n",
    "chef = pipeline('text-generation', model='./results-text', tokenizer=tokenizerVI)\n",
    "\n",
    "result = chef('Loved this')\n",
    "print('result', result)"
   ]
  },
  {
   "cell_type": "code",
   "execution_count": 63,
   "metadata": {},
   "outputs": [
    {
     "name": "stderr",
     "output_type": "stream",
     "text": [
      "Generate config GenerationConfig {\n",
      "  \"bos_token_id\": 50256,\n",
      "  \"eos_token_id\": 50256,\n",
      "  \"transformers_version\": \"4.26.1\"\n",
      "}\n",
      "\n"
     ]
    },
    {
     "name": "stdout",
     "output_type": "stream",
     "text": [
      "input_ids tensor([[  198, 13564,  2912,   546,   366,    43,  2668,   428,  1600,   329,\n",
      "           220, 50935,   198]])\n",
      ">> Generated text 1\n",
      "\n",
      "\n",
      "write comment about \"Loved this\", for restaurant\n",
      "greatest bland ive ever amazing steak definitely vegas delicious disappointed prices salad taste tasted experience spicy wont cant awesome serve didnt expect sushi came dont chicken minutes recommended flavor perfectly buffet dish pasta wasnt overpriced servers tasteless dessert breakfast tasty seated sauce sandwich dirt \n",
      "\n",
      "---\n",
      ">> Generated text 2\n",
      "\n",
      "\n",
      "write comment about \"Loved this\", for restaurant\n",
      "greatest delicious prices tender experience minutes bland disappointed expect wasnt ive didnt amazing serve excellent cant salad awesome steak sauce taste pizza rude buffet vegas beef came sushi dish incredible meals flavor attentive dont tasted spicy fries tasty sandwich impressed wouldnt fantastic iced terrible\n",
      "\n",
      "---\n",
      ">> Generated text 3\n",
      "\n",
      "\n",
      "write comment about \"Loved this\", for restaurant\n",
      "greatest prices flavor amazing experience ive go back minutes wasnt attentive delicious steak expect taste dish disappointed tasty came bland awesome eaten wont vegas rude salad barely dont didnt dirt serve dining pasta sushi chicken terrible iced cant service food service service good service friendly service fast food buffet service \n",
      "\n",
      "---\n"
     ]
    }
   ],
   "source": [
    "import torch\n",
    "from transformers import GPT2Tokenizer, GPT2LMHeadModel\n",
    "\n",
    "text = \"\"\"\n",
    "write comment about \"Loved this\", for restaurant\n",
    "\"\"\"\n",
    "input_ids = tokenizerVI.encode(text, return_tensors='pt')\n",
    "print('input_ids',input_ids)\n",
    "max_length = 100\n",
    "\n",
    "sample_outputs = modelMaskedLM.generate(input_ids,pad_token_id=tokenizerVI.eos_token_id,\n",
    "                                    bos_token_id=tokenizerVI.bos_token_id,\n",
    "                                    eos_token_id=tokenizerVI.eos_token_id,\n",
    "                                   do_sample=True,\n",
    "                                   max_length=max_length,\n",
    "                                   min_length=max_length,\n",
    "                                   top_k=40,\n",
    "                                   num_beams=5,\n",
    "                                   early_stopping=True,\n",
    "                                   no_repeat_ngram_size=2,\n",
    "                                   num_return_sequences=3)\n",
    "\n",
    "for i, sample_output in enumerate(sample_outputs):\n",
    "    print(\">> Generated text {}\\n\\n{}\".format(i+1, tokenizerVI.decode(sample_output.tolist())))\n",
    "    print('\\n---')\n"
   ]
  }
 ],
 "metadata": {
  "kernelspec": {
   "display_name": "Python 3",
   "language": "python",
   "name": "python3"
  },
  "language_info": {
   "codemirror_mode": {
    "name": "ipython",
    "version": 3
   },
   "file_extension": ".py",
   "mimetype": "text/x-python",
   "name": "python",
   "nbconvert_exporter": "python",
   "pygments_lexer": "ipython3",
   "version": "3.10.3"
  },
  "orig_nbformat": 4
 },
 "nbformat": 4,
 "nbformat_minor": 2
}
